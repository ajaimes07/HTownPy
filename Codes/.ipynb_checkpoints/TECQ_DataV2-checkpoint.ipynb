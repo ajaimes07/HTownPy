{
 "cells": [
  {
   "cell_type": "code",
   "execution_count": null,
   "metadata": {},
   "outputs": [],
   "source": [
    "#Author:Aline Jaimes\n",
    "#Date: 101419\n",
    "# Title: Project 1\n",
    "# Goal:Web scrapping data for air quality monitoring stations "
   ]
  },
  {
   "cell_type": "code",
   "execution_count": 16,
   "metadata": {},
   "outputs": [],
   "source": [
    "# Dependencies\n",
    "import os\n",
    "import lxml\n",
    "import html5lib\n",
    "import requests\n",
    "import pymongo\n",
    "import pandas as pd\n",
    "from bs4 import BeautifulSoup as bs"
   ]
  },
  {
   "cell_type": "code",
   "execution_count": 17,
   "metadata": {},
   "outputs": [],
   "source": [
    "# Initialize PyMongo to work with MongoDBs\n",
    "conn = 'mongodb://localhost:27017'\n",
    "client = pymongo.MongoClient(conn)"
   ]
  },
  {
   "cell_type": "code",
   "execution_count": 19,
   "metadata": {},
   "outputs": [],
   "source": [
    "# Define database and collection\n",
    "db = client.HTown_db\n",
    "collection = db.items"
   ]
  },
  {
   "cell_type": "code",
   "execution_count": 20,
   "metadata": {},
   "outputs": [],
   "source": [
    "table = bs(open('../template.html','r').read()).find('table')"
   ]
  },
  {
   "cell_type": "code",
   "execution_count": 21,
   "metadata": {},
   "outputs": [],
   "source": [
    "df = pd.read_html('../template.html', flavor='bs4')"
   ]
  },
  {
   "cell_type": "code",
   "execution_count": 33,
   "metadata": {},
   "outputs": [],
   "source": [
    "df = df[2]"
   ]
  },
  {
   "cell_type": "code",
   "execution_count": 34,
   "metadata": {},
   "outputs": [
    {
     "data": {
      "text/html": [
       "<div>\n",
       "<style scoped>\n",
       "    .dataframe tbody tr th:only-of-type {\n",
       "        vertical-align: middle;\n",
       "    }\n",
       "\n",
       "    .dataframe tbody tr th {\n",
       "        vertical-align: top;\n",
       "    }\n",
       "\n",
       "    .dataframe thead th {\n",
       "        text-align: right;\n",
       "    }\n",
       "</style>\n",
       "<table border=\"1\" class=\"dataframe\">\n",
       "  <thead>\n",
       "    <tr style=\"text-align: right;\">\n",
       "      <th></th>\n",
       "      <th>AQS Code</th>\n",
       "      <th>CAMS</th>\n",
       "      <th>TCEQ Region</th>\n",
       "      <th>Reg#</th>\n",
       "      <th>Site Name</th>\n",
       "      <th>Street Address</th>\n",
       "      <th>Activation Date</th>\n",
       "      <th>Owned By</th>\n",
       "    </tr>\n",
       "  </thead>\n",
       "  <tbody>\n",
       "    <tr>\n",
       "      <th>0</th>\n",
       "      <td>480055013</td>\n",
       "      <td>5013</td>\n",
       "      <td>BEAUMONT</td>\n",
       "      <td>10</td>\n",
       "      <td>Lufkin KLFK</td>\n",
       "      <td>Angelina County Airport</td>\n",
       "      <td>02-Sep-2005</td>\n",
       "      <td>National Weather Service</td>\n",
       "    </tr>\n",
       "    <tr>\n",
       "      <th>1</th>\n",
       "      <td>480211612</td>\n",
       "      <td>1612</td>\n",
       "      <td>AUSTIN</td>\n",
       "      <td>11</td>\n",
       "      <td>CAPCOG Bastrop</td>\n",
       "      <td>25 American Legion Drive</td>\n",
       "      <td>25-Feb-2019</td>\n",
       "      <td>Capital Area Council of Governments</td>\n",
       "    </tr>\n",
       "    <tr>\n",
       "      <th>2</th>\n",
       "      <td>480211613</td>\n",
       "      <td>1613</td>\n",
       "      <td>AUSTIN</td>\n",
       "      <td>11</td>\n",
       "      <td>CAPCOG Elgin</td>\n",
       "      <td>900 E 2nd Street</td>\n",
       "      <td>25-Feb-2019</td>\n",
       "      <td>Capital Area Council of Governments</td>\n",
       "    </tr>\n",
       "    <tr>\n",
       "      <th>3</th>\n",
       "      <td>480271045</td>\n",
       "      <td>1045</td>\n",
       "      <td>WACO</td>\n",
       "      <td>9</td>\n",
       "      <td>Temple Georgia</td>\n",
       "      <td>8406 Georgia Avenue</td>\n",
       "      <td>04-Oct-2013</td>\n",
       "      <td>TCEQ</td>\n",
       "    </tr>\n",
       "    <tr>\n",
       "      <th>4</th>\n",
       "      <td>480271047</td>\n",
       "      <td>1047</td>\n",
       "      <td>WACO</td>\n",
       "      <td>9</td>\n",
       "      <td>Killeen Skylark Field</td>\n",
       "      <td>1605 Stone Tree Drive</td>\n",
       "      <td>11-Jun-2009</td>\n",
       "      <td>TCEQ</td>\n",
       "    </tr>\n",
       "  </tbody>\n",
       "</table>\n",
       "</div>"
      ],
      "text/plain": [
       "    AQS Code  CAMS TCEQ Region  Reg#              Site Name  \\\n",
       "0  480055013  5013    BEAUMONT    10            Lufkin KLFK   \n",
       "1  480211612  1612      AUSTIN    11         CAPCOG Bastrop   \n",
       "2  480211613  1613      AUSTIN    11           CAPCOG Elgin   \n",
       "3  480271045  1045        WACO     9         Temple Georgia   \n",
       "4  480271047  1047        WACO     9  Killeen Skylark Field   \n",
       "\n",
       "             Street Address Activation Date  \\\n",
       "0   Angelina County Airport     02-Sep-2005   \n",
       "1  25 American Legion Drive     25-Feb-2019   \n",
       "2          900 E 2nd Street     25-Feb-2019   \n",
       "3       8406 Georgia Avenue     04-Oct-2013   \n",
       "4     1605 Stone Tree Drive     11-Jun-2009   \n",
       "\n",
       "                              Owned By  \n",
       "0             National Weather Service  \n",
       "1  Capital Area Council of Governments  \n",
       "2  Capital Area Council of Governments  \n",
       "3                                 TCEQ  \n",
       "4                                 TCEQ  "
      ]
     },
     "execution_count": 34,
     "metadata": {},
     "output_type": "execute_result"
    }
   ],
   "source": [
    "df.head()"
   ]
  },
  {
   "cell_type": "code",
   "execution_count": 28,
   "metadata": {},
   "outputs": [
    {
     "ename": "TypeError",
     "evalue": "document must be an instance of dict, bson.son.SON, bson.raw_bson.RawBSONDocument, or a type that inherits from collections.MutableMapping",
     "output_type": "error",
     "traceback": [
      "\u001b[1;31m---------------------------------------------------------------------------\u001b[0m",
      "\u001b[1;31mTypeError\u001b[0m                                 Traceback (most recent call last)",
      "\u001b[1;32m<ipython-input-28-4ade98995aba>\u001b[0m in \u001b[0;36m<module>\u001b[1;34m\u001b[0m\n\u001b[1;32m----> 1\u001b[1;33m \u001b[0mcollection\u001b[0m\u001b[1;33m.\u001b[0m\u001b[0minsert_one\u001b[0m\u001b[1;33m(\u001b[0m\u001b[0mdf\u001b[0m\u001b[1;33m)\u001b[0m\u001b[1;33m\u001b[0m\u001b[1;33m\u001b[0m\u001b[0m\n\u001b[0m",
      "\u001b[1;32mC:\\ProgramData\\Anaconda3\\lib\\site-packages\\pymongo\\collection.py\u001b[0m in \u001b[0;36minsert_one\u001b[1;34m(self, document, bypass_document_validation, session)\u001b[0m\n\u001b[0;32m    687\u001b[0m         \u001b[1;33m.\u001b[0m\u001b[1;33m.\u001b[0m \u001b[0mversionadded\u001b[0m\u001b[1;33m:\u001b[0m\u001b[1;33m:\u001b[0m \u001b[1;36m3.0\u001b[0m\u001b[1;33m\u001b[0m\u001b[1;33m\u001b[0m\u001b[0m\n\u001b[0;32m    688\u001b[0m         \"\"\"\n\u001b[1;32m--> 689\u001b[1;33m         \u001b[0mcommon\u001b[0m\u001b[1;33m.\u001b[0m\u001b[0mvalidate_is_document_type\u001b[0m\u001b[1;33m(\u001b[0m\u001b[1;34m\"document\"\u001b[0m\u001b[1;33m,\u001b[0m \u001b[0mdocument\u001b[0m\u001b[1;33m)\u001b[0m\u001b[1;33m\u001b[0m\u001b[1;33m\u001b[0m\u001b[0m\n\u001b[0m\u001b[0;32m    690\u001b[0m         \u001b[1;32mif\u001b[0m \u001b[1;32mnot\u001b[0m \u001b[1;33m(\u001b[0m\u001b[0misinstance\u001b[0m\u001b[1;33m(\u001b[0m\u001b[0mdocument\u001b[0m\u001b[1;33m,\u001b[0m \u001b[0mRawBSONDocument\u001b[0m\u001b[1;33m)\u001b[0m \u001b[1;32mor\u001b[0m \u001b[1;34m\"_id\"\u001b[0m \u001b[1;32min\u001b[0m \u001b[0mdocument\u001b[0m\u001b[1;33m)\u001b[0m\u001b[1;33m:\u001b[0m\u001b[1;33m\u001b[0m\u001b[1;33m\u001b[0m\u001b[0m\n\u001b[0;32m    691\u001b[0m             \u001b[0mdocument\u001b[0m\u001b[1;33m[\u001b[0m\u001b[1;34m\"_id\"\u001b[0m\u001b[1;33m]\u001b[0m \u001b[1;33m=\u001b[0m \u001b[0mObjectId\u001b[0m\u001b[1;33m(\u001b[0m\u001b[1;33m)\u001b[0m\u001b[1;33m\u001b[0m\u001b[1;33m\u001b[0m\u001b[0m\n",
      "\u001b[1;32mC:\\ProgramData\\Anaconda3\\lib\\site-packages\\pymongo\\common.py\u001b[0m in \u001b[0;36mvalidate_is_document_type\u001b[1;34m(option, value)\u001b[0m\n\u001b[0;32m    481\u001b[0m                         \u001b[1;34m\"bson.raw_bson.RawBSONDocument, or \"\u001b[0m\u001b[1;33m\u001b[0m\u001b[1;33m\u001b[0m\u001b[0m\n\u001b[0;32m    482\u001b[0m                         \u001b[1;34m\"a type that inherits from \"\u001b[0m\u001b[1;33m\u001b[0m\u001b[1;33m\u001b[0m\u001b[0m\n\u001b[1;32m--> 483\u001b[1;33m                         \"collections.MutableMapping\" % (option,))\n\u001b[0m\u001b[0;32m    484\u001b[0m \u001b[1;33m\u001b[0m\u001b[0m\n\u001b[0;32m    485\u001b[0m \u001b[1;33m\u001b[0m\u001b[0m\n",
      "\u001b[1;31mTypeError\u001b[0m: document must be an instance of dict, bson.son.SON, bson.raw_bson.RawBSONDocument, or a type that inherits from collections.MutableMapping"
     ]
    }
   ],
   "source": [
    "collection.insert_one(df)"
   ]
  },
  {
   "cell_type": "code",
   "execution_count": null,
   "metadata": {},
   "outputs": [],
   "source": []
  },
  {
   "cell_type": "code",
   "execution_count": 27,
   "metadata": {},
   "outputs": [],
   "source": [
    "listings = db.items.find()\n",
    "\n",
    "for listing in listings:\n",
    "    print(listing)"
   ]
  },
  {
   "cell_type": "code",
   "execution_count": null,
   "metadata": {},
   "outputs": [],
   "source": []
  }
 ],
 "metadata": {
  "kernelspec": {
   "display_name": "Python 3",
   "language": "python",
   "name": "python3"
  },
  "language_info": {
   "codemirror_mode": {
    "name": "ipython",
    "version": 3
   },
   "file_extension": ".py",
   "mimetype": "text/x-python",
   "name": "python",
   "nbconvert_exporter": "python",
   "pygments_lexer": "ipython3",
   "version": "3.7.3"
  }
 },
 "nbformat": 4,
 "nbformat_minor": 2
}
